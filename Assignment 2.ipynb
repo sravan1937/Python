{
 "cells": [
  {
   "cell_type": "markdown",
   "metadata": {},
   "source": [
    "# Assignment 2 \n",
    "\n",
    "Task 1:"
   ]
  },
  {
   "cell_type": "markdown",
   "metadata": {},
   "source": [
    "Question 1.1 :\n",
    "\n",
    "Write a Python Program to implement your own myreduce() function which works exactly like\n",
    "Python's built-in function reduce()"
   ]
  },
  {
   "cell_type": "code",
   "execution_count": 1,
   "metadata": {},
   "outputs": [],
   "source": [
    "# Creating a myreduce function to mutiply all the no;s in a list\n",
    "def myreduce(func, seq_list):\n",
    "    # Retrieve the first element from list and assign it to a variable\n",
    "    Mult = seq_list[0]\n",
    "    # Introduce a for loop to iterate over remaining elements\n",
    "    for i in seq_list[1:]:\n",
    "        #Use the function - func(which is passed from calling function here) and pass two arguments i.e. First and Second element\n",
    "        Mult = func(Mult, i)\n",
    "    #retrun the o/p \n",
    "    return Mult"
   ]
  },
  {
   "cell_type": "code",
   "execution_count": 2,
   "metadata": {},
   "outputs": [
    {
     "name": "stdout",
     "output_type": "stream",
     "text": [
      "Mutiplication of all no's in the list : 120 \n"
     ]
    }
   ],
   "source": [
    "#There are two arguments which are passed myreduce function one is anonymous function i.e lambda and second one is list\n",
    "print(\"Mutiplication of all no's in the list : {} \".format(myreduce( (lambda x, y: x * y), [1, 2, 3, 4,5])))   "
   ]
  },
  {
   "cell_type": "markdown",
   "metadata": {},
   "source": [
    "Question 1.2 :\n",
    "    \n",
    "Write a Python program to implement your own myfilter() function which works exactly like\n",
    "Python's built-in function filter()"
   ]
  },
  {
   "cell_type": "code",
   "execution_count": 3,
   "metadata": {},
   "outputs": [],
   "source": [
    "# Creating a myfilter to find out negative no's in a list\n",
    "def myfilter(seq_ran):\n",
    "    #defining an empty list\n",
    "    neg_no = []\n",
    "    # loop over a range of elements \n",
    "    for x in seq_ran:\n",
    "        #condition to check whether the no. is negative or not\n",
    "        if x < 0:\n",
    "            #if the no. is negative then add the no to list - neg_no \n",
    "            neg_no.append(x)\n",
    "    #retrun the o/p \n",
    "    return neg_no   "
   ]
  },
  {
   "cell_type": "code",
   "execution_count": 4,
   "metadata": {},
   "outputs": [
    {
     "name": "stdout",
     "output_type": "stream",
     "text": [
      "negative no's in the list : [-5, -4, -3, -2, -1] \n"
     ]
    }
   ],
   "source": [
    "#Passing only one argument i.e. range  of elements to myfilter function to check negative elements\n",
    "print(\"negative no's in the list : {} \".format(myfilter(range(-5,5))))"
   ]
  },
  {
   "cell_type": "markdown",
   "metadata": {},
   "source": [
    "Question 2.\n",
    "Implement List comprehensions to produce the following lists.\n",
    "\n",
    "Write List comprehensions to produce the following Lists\n",
    "\n",
    "['A', 'C', 'A', 'D', 'G', 'I', ’L’, ‘ D’]\n",
    "\n",
    "['x', 'xx', 'xxx', 'xxxx', 'y', 'yy', 'yyy', 'yyyy', 'z', 'zz', 'zzz', 'zzzz']\n",
    "\n",
    "['x', 'y', 'z', 'xx', 'yy', 'zz', 'xx', 'yy', 'zz', 'xxxx', 'yyyy', 'zzzz']\n",
    "\n",
    "[[2], [3], [4], [3], [4], [5], [4], [5], [6]]\n",
    "\n",
    "[[2, 3, 4, 5], [3, 4, 5, 6], [4, 5, 6, 7], [5, 6, 7, 8]]\n",
    "\n",
    "[(1, 1), (2, 1), (3, 1), (1, 2), (2, 2), (3, 2), (1, 3), (2, 3), (3, 3)]"
   ]
  },
  {
   "cell_type": "code",
   "execution_count": 5,
   "metadata": {},
   "outputs": [
    {
     "name": "stdout",
     "output_type": "stream",
     "text": [
      "Required o/p is:  ['A', 'C', 'A', 'D', 'G', 'I', 'L', 'D']\n"
     ]
    }
   ],
   "source": [
    "#Assigning a variable with string 'ACADGILD'\n",
    "string1 = 'ACADGILD'\n",
    "\n",
    "#Defining an empty list\n",
    "lst_cmp1 = []\n",
    "\n",
    "#Loop over the variable to read and assign each letter to list lst_cmp1\n",
    "lst_cmp1 = [i for i in string1]\n",
    "\n",
    "#print of the required o/p\n",
    "print(\"Required o/p is: \" , lst_cmp1)"
   ]
  },
  {
   "cell_type": "code",
   "execution_count": 6,
   "metadata": {},
   "outputs": [
    {
     "name": "stdout",
     "output_type": "stream",
     "text": [
      "Required o/p is:  ['x', 'xx', 'xxx', 'xxxx', 'y', 'yy', 'yyy', 'yyyy', 'z', 'zz', 'zzz', 'zzzz']\n"
     ]
    }
   ],
   "source": [
    "#Assigning a variable lst2 with a list strings\n",
    "lst2 = ['x','y','z']\n",
    "\n",
    "#Defining an empty list\n",
    "lst_cmp2 = []\n",
    "\n",
    "\"\"\"Nested loop - Outer Loop to get the each letter from lst2 and inner one to loop over no's 1 to 4\n",
    "for each of the letter read in outerloop ,loop over the no's 1 to 4 from inner loop to mutiply the letter and no to store\n",
    "it in list lst_cmp2\"\"\"\n",
    "\n",
    "lst_cmp2 = [i*j for i in lst2 for j in range(1,5)]\n",
    "\n",
    "#print of the required o/p\n",
    "print(\"Required o/p is: \" ,lst_cmp2)"
   ]
  },
  {
   "cell_type": "code",
   "execution_count": 7,
   "metadata": {},
   "outputs": [
    {
     "name": "stdout",
     "output_type": "stream",
     "text": [
      "Required o/p is:  ['x', 'y', 'z', 'xx', 'yy', 'zz', 'xxx', 'yyy', 'zzz', 'xxxx', 'yyyy', 'zzzz']\n"
     ]
    }
   ],
   "source": [
    "#Assigning a variable lst3 with a list strings\n",
    "lst3 = ['x','y','z']\n",
    "\n",
    "#Defining an empty list\n",
    "lst_cmp3 = []\n",
    "        \n",
    "\"\"\"Nested loop - inner Loop to get the each letter from lst2 and outer one to loop over no's 1 to 4\n",
    "for each of the letter read in outer loop ,loop over the no's 1 to 4 from outer loop to mutiply the letter and no to store\n",
    "it in list lst_cmp3\"\"\"\n",
    "\n",
    "lst_cmp3 = [i*j for i in range(1,5) for j in lst3]\n",
    "\n",
    "#print of the required o/p\n",
    "print(\"Required o/p is: \" ,lst_cmp3)"
   ]
  },
  {
   "cell_type": "code",
   "execution_count": 8,
   "metadata": {},
   "outputs": [
    {
     "name": "stdout",
     "output_type": "stream",
     "text": [
      "Required o/p is:  [[2], [3], [4], [3], [4], [5], [4], [5], [6]]\n"
     ]
    }
   ],
   "source": [
    "#Assigning a variable lst4 wih a list of integers\n",
    "lst4 = [2,3,4]\n",
    "\n",
    "#Defining an empty list\n",
    "lst_cmp4 = []\n",
    "\n",
    "#Nested loop - Inner loop to get no's 0 to 3 and outer loop over list ;for each of no in the list - lst4 add each of the no \n",
    "#from inner loop in every iteration and return this as a list to lst_cmp4\n",
    "lst_cmp4 = [[i+j] for i in lst4 for j in range(0,3)]\n",
    "\n",
    "#print of the required o/p\n",
    "print(\"Required o/p is: \" ,lst_cmp4)"
   ]
  },
  {
   "cell_type": "code",
   "execution_count": 9,
   "metadata": {},
   "outputs": [
    {
     "name": "stdout",
     "output_type": "stream",
     "text": [
      "Required o/p is:  [[2, 3, 4, 5], [3, 4, 5, 6], [4, 5, 6, 7], [5, 6, 7, 8]]\n"
     ]
    }
   ],
   "source": [
    "#Assigning a variable lst5 with a list of integers\n",
    "lst5 = [2,3,4,5]\n",
    "\n",
    "#Defining an empty list\n",
    "lst_cmp5 = []\n",
    "\n",
    "#Nested loop - Inner loop to get no's 0 to 3 and outer loop over list ;for each of no in the list - lst5 add one no. \n",
    "#from inner loop in every iteration and return this as a list to lst_cmp5\n",
    "lst_cmp5 = [[i+j for i in lst5] for j in range(0,4)]\n",
    "\n",
    "#print of the required o/p\n",
    "print(\"Required o/p is: \",lst_cmp5)"
   ]
  },
  {
   "cell_type": "code",
   "execution_count": 10,
   "metadata": {},
   "outputs": [
    {
     "name": "stdout",
     "output_type": "stream",
     "text": [
      "Required o/p is:  [(1, 1), (2, 1), (3, 1), (1, 2), (2, 2), (3, 2), (1, 3), (2, 3), (3, 3)]\n"
     ]
    }
   ],
   "source": [
    "#Assigning a variable lst5 with a list of integers\n",
    "lst6 = [1,2,3]\n",
    "\n",
    "#Defining an empty list\n",
    "lst_cmp6 = []\n",
    "\n",
    "#Nested loop - Inner loop to get no's 0 to 3 and outer loop over list of integers ;considering  each of no in the list - lst6 \n",
    "#add all no's from inner loop in every iteration and return this as a list to lst_cmp6\n",
    "lst_cmp6 = [(j,i) for i in lst6 for j in range(1,4)] \n",
    "\n",
    "\n",
    "#print of the required o/p\n",
    "print(\"Required o/p is: \",lst_cmp6)"
   ]
  },
  {
   "cell_type": "markdown",
   "metadata": {},
   "source": [
    "Question 3.\n",
    "\n",
    "Implement a function longestWord() that takes a list of words and returns the longest one."
   ]
  },
  {
   "cell_type": "code",
   "execution_count": 11,
   "metadata": {},
   "outputs": [
    {
     "name": "stdout",
     "output_type": "stream",
     "text": [
      "longest word from the list of words is Datascience\n"
     ]
    }
   ],
   "source": [
    "#Create a fuction \"longestWord\" which takes an argument lis_words\n",
    "def longestWord(lis_words):\n",
    "    #defining empty list\n",
    "    word_list = []\n",
    "    #loop over the list to store length of the word and word\n",
    "    for n in lis_words:\n",
    "        word_list.append((len(n), n))\n",
    "    #apply sort method on the list - word  \n",
    "    word_list.sort()\n",
    "    #As the list is sorted get the last word should be longest one - apply indexing\n",
    "    return word_list[-1][1]\n",
    "\n",
    "#Invoke the function to print the longest word from the list\n",
    "print(\"longest word from the list of words is {}\" .format(longestWord([\"Hello\", \"welcometo\", \"Datascience\",\"world\"])))"
   ]
  },
  {
   "cell_type": "markdown",
   "metadata": {},
   "source": [
    "Task 2:\n",
    "Question 1.1\n",
    "\n",
    "Write a Python Program(with class concepts) to find the area of the triangle using the below\n",
    "formula.\n",
    "\n",
    "area = (s*(s-a)*(s-b)*(s-c)) ** 0.5\n",
    "\n",
    "Function to take the length of the sides of triangle from user should be defined in the parent\n",
    "class and function to calculate the area should be defined in subclass."
   ]
  },
  {
   "cell_type": "code",
   "execution_count": 12,
   "metadata": {},
   "outputs": [
    {
     "name": "stdout",
     "output_type": "stream",
     "text": [
      "Enter the value of a = 6\n",
      "Enter the value of b = 7\n",
      "Enter the value of c = 8\n",
      "area of the triangle is : 20.33316256758894 cm\n"
     ]
    }
   ],
   "source": [
    "#Defining a base class as Triangle  \n",
    "class Triangle:\n",
    "    # Defining a special method to delcare and taking the length of the sides of triangle from user \n",
    "    def __init__(self,a,b,c):\n",
    "        #values of a, b, and c when assigned from the ‘input()’ methods would be strings, not integers or floats.\n",
    "        #changed the passed-in values to floats, using ‘float()’\n",
    "        self.a = float(a)\n",
    "        self.b = float(b)\n",
    "        self.c = float(c)\n",
    "\n",
    "    \n",
    "    #Defining a method to calculate area of the traingle      \n",
    "    def area(self):\n",
    "        s=(self.a + self.b + self.c)/2\n",
    "        return((s*(s-self.a)*(s-self.b)*(s-self.c))**0.5)\n",
    "    \n",
    "#Take the length of the sides of the triangle from the user\n",
    "a=input(\"Enter the value of a = \")\n",
    "b=input(\"Enter the value of b = \")\n",
    "c=input(\"Enter the value of c = \")\n",
    "\n",
    "# create an instance 't' from class Triangle \n",
    "t = Triangle(a,b,c)\n",
    "\n",
    "#Area of the triangle\n",
    "#Measurement assumption in cm\n",
    "print(\"area of the triangle is : {}\".format(t.area()) + ' cm')"
   ]
  },
  {
   "cell_type": "markdown",
   "metadata": {},
   "source": [
    "Question - 1.2\n",
    "\n",
    "Write a function filter_long_words() that takes a list of words and an integer n and returns the list\n",
    "of words that are longer than n."
   ]
  },
  {
   "cell_type": "code",
   "execution_count": 13,
   "metadata": {},
   "outputs": [],
   "source": [
    "#defining a function which tkes two arguments list_words and integer n  \n",
    "def filter_long_words(list_words,n):\n",
    "    #defining a empty list\n",
    "    words_list = []\n",
    "    #loop over the list - list_words\n",
    "    for i in list_words:\n",
    "        #if length of an item in the list is greather integer n then add them to the list - words_list\n",
    "        if len(i) > n:\n",
    "            words_list.append(i)\n",
    "    return words_list    "
   ]
  },
  {
   "cell_type": "code",
   "execution_count": 14,
   "metadata": {},
   "outputs": [
    {
     "name": "stdout",
     "output_type": "stream",
     "text": [
      "list of words longer than n is ['welcometo', 'Datascience'] \n"
     ]
    }
   ],
   "source": [
    "print(\"list of words longer than n is {} \".format(filter_long_words([\"Hello\", \"welcometo\", \"Datascience\",\"world\"],5)))"
   ]
  },
  {
   "cell_type": "markdown",
   "metadata": {},
   "source": [
    "Question - 2.1\n",
    "\n",
    "Write a Python program using function concept that maps list of words into a list of integers\n",
    "representing the lengths of the corresponding words.\n",
    "\n",
    "Hint: If a list [ ab,cde,erty] is passed on to the python function output should come as [2,3,4]\n",
    "Here 2,3 and 4 are the lengths of the words in the list."
   ]
  },
  {
   "cell_type": "code",
   "execution_count": 15,
   "metadata": {},
   "outputs": [],
   "source": [
    "#Using map function which takes anonymous function lambda and list of words to map list of words into list of integers\n",
    "#representing the lengths of the corresponding words.\n",
    "\n",
    "func = map(lambda x:len(x),[\"Hello\", \"welcometo\", \"Datascience\",\"world\"])"
   ]
  },
  {
   "cell_type": "code",
   "execution_count": 16,
   "metadata": {},
   "outputs": [
    {
     "name": "stdout",
     "output_type": "stream",
     "text": [
      "legnth of the words of the list [5, 9, 11, 5] \n"
     ]
    }
   ],
   "source": [
    "print(\"legnth of the words of the list {} \". format(list(func)))"
   ]
  },
  {
   "cell_type": "code",
   "execution_count": 17,
   "metadata": {},
   "outputs": [
    {
     "data": {
      "text/plain": [
       "[5, 9, 11, 5]"
      ]
     },
     "execution_count": 17,
     "metadata": {},
     "output_type": "execute_result"
    }
   ],
   "source": [
    "#Alternative method - Tried using List comprehension\n",
    "[len(i) for i in [\"Hello\", \"welcometo\", \"Datascience\",\"world\"]]"
   ]
  },
  {
   "cell_type": "markdown",
   "metadata": {},
   "source": [
    "Question - 2.2\n",
    "\n",
    "Write a Python function which takes a character (i.e. a string of length 1) and returns True if it is\n",
    "a vowel, False otherwise."
   ]
  },
  {
   "cell_type": "code",
   "execution_count": 18,
   "metadata": {},
   "outputs": [],
   "source": [
    "#Defining a function vowel_check which takes one letter as argument and return True if it is a vowel, False otherwise.\n",
    "def vowel_check(l):\n",
    "    #check whether the letter is vowel if yes the return True \n",
    "    if l in ['a','e','i','o','u','A','E','I','O','U']:\n",
    "        print('%s is a vowel ' %l )\n",
    "        return True\n",
    "    #check whether the letter is not a vowel and then return False\n",
    "    else:\n",
    "        print('%s is not a vowel ' %l)\n",
    "        return False\n",
    "    return   "
   ]
  },
  {
   "cell_type": "code",
   "execution_count": 19,
   "metadata": {},
   "outputs": [
    {
     "name": "stdout",
     "output_type": "stream",
     "text": [
      "Y is not a vowel \n"
     ]
    },
    {
     "data": {
      "text/plain": [
       "False"
      ]
     },
     "execution_count": 19,
     "metadata": {},
     "output_type": "execute_result"
    }
   ],
   "source": [
    "#Invoke the function to check whether the letter is a vowel or not \n",
    "vowel_check('Y')"
   ]
  }
 ],
 "metadata": {
  "kernelspec": {
   "display_name": "Python 3",
   "language": "python",
   "name": "python3"
  },
  "language_info": {
   "codemirror_mode": {
    "name": "ipython",
    "version": 3
   },
   "file_extension": ".py",
   "mimetype": "text/x-python",
   "name": "python",
   "nbconvert_exporter": "python",
   "pygments_lexer": "ipython3",
   "version": "3.7.3"
  }
 },
 "nbformat": 4,
 "nbformat_minor": 2
}
