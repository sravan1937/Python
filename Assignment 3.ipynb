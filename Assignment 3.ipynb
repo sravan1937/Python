{
 "cells": [
  {
   "cell_type": "markdown",
   "metadata": {},
   "source": [
    "# Task 1"
   ]
  },
  {
   "cell_type": "markdown",
   "metadata": {},
   "source": [
    "Question 1:\n",
    "\n",
    "Write a function to compute 5/0 and use try/except to catch the exceptions"
   ]
  },
  {
   "cell_type": "code",
   "execution_count": 1,
   "metadata": {},
   "outputs": [
    {
     "name": "stdout",
     "output_type": "stream",
     "text": [
      "For Division enter the numerator : 5\n",
      "For Division enter the Denominator:0\n"
     ]
    }
   ],
   "source": [
    "#Enter the no's for Division operation ;so the inputs for numerator and denominator are taken from user\n",
    "#and convert the input into integer format using int() function\n",
    "x = int(input(\"For Division enter the numerator : \"))\n",
    "y = int(input(\"For Division enter the Denominator:\" ))        \n",
    "   "
   ]
  },
  {
   "cell_type": "code",
   "execution_count": 2,
   "metadata": {},
   "outputs": [],
   "source": [
    "#Defining a function - divide which takes two arguments one as numerator other as denominator \n",
    "#to perform division and return the outcome\n",
    "def divide(x,y):\n",
    "    z = x/y\n",
    "    return z\n"
   ]
  },
  {
   "cell_type": "code",
   "execution_count": 3,
   "metadata": {},
   "outputs": [
    {
     "name": "stdout",
     "output_type": "stream",
     "text": [
      "Division by Zero Occured \n",
      "please do not enter zero in the denominator\n",
      "Division by program is completed\n"
     ]
    }
   ],
   "source": [
    "#Handling of Exceptions\n",
    "#Programmer may need to perform following steps\n",
    "\n",
    "#Step 1:\n",
    "#Statements which could raise exceptions are to be written inside 'try' block\n",
    "#Significance of 'try' block is that even if some exceptions arises the program will not be terminated.\n",
    "#When PVM understands that there is an exception then it jumps into 'except' block\n",
    "\n",
    "try:\n",
    "    #printing the dicision of numbers by invoking divide function\n",
    "    print('Division of numbers : {}' .format(divide(x,y)))  \n",
    "\n",
    "#Step 2:\n",
    "#Programmer shuld display exception details to the user. This helps to understand that there is some error in the program \n",
    "#Programer should also display what can be to avoid the error\n",
    "#The statements written inside the 'excep' block are called handlers since they handle situation when the exception occurs.\n",
    "#When PVM understands that there is an exception then it jumps into 'except' block\n",
    "\n",
    "except ZeroDivisionError:\n",
    "    print('Division by Zero Occured ')\n",
    "    print('please do not enter zero in the denominator')\n",
    "    \n",
    "#Step3:\n",
    "#Programmer should perform clean up actions like closing of the files and terminating any other processes which are running.\n",
    "#These statements are to be written inside \"finally\" block.\n",
    "#Speciality of 'finally' block is statements inside this get executed whether there is an exception or not\n",
    "    \n",
    "finally:\n",
    "    print('Division by program is completed')"
   ]
  },
  {
   "cell_type": "markdown",
   "metadata": {},
   "source": [
    "Question 2 :\n",
    "    \n",
    "Implement a Python program to generate all sentences where subject is in [\"Americans\",\n",
    "\"Indians\"] and verb is in [\"Play\", \"watch\"] and the object is in [\"Baseball\",\"cricket\"].\n",
    "\n",
    "Hint: Subject,Verb and Object should be declared in the program as shown below.\n",
    "    \n",
    "subjects=[\"Americans \",\"Indians\"]\n",
    "\n",
    "verbs=[\"play\",\"watch\"]\n",
    "\n",
    "objects=[\"Baseball\",\"Cricket\"]\n",
    "\n",
    "Output should come as below:\n",
    "\n",
    "Americans play Baseball.\n",
    "Americans play Cricket.\n",
    "Americans watch Baseball.\n",
    "Americans watch Cricket.\n",
    "Indians play Baseball.\n",
    "Indians play Cricket.\n",
    "Indians watch Baseball.\n",
    "Indians watch Cricket."
   ]
  },
  {
   "cell_type": "code",
   "execution_count": 4,
   "metadata": {},
   "outputs": [
    {
     "name": "stdout",
     "output_type": "stream",
     "text": [
      "Required ouput is : \n",
      " \n",
      "Americans play Baseball\n",
      "Americans play Cricket\n",
      "Americans watch Baseball\n",
      "Americans watch Cricket\n",
      "Indians play Baseball\n",
      "Indians play Cricket\n",
      "Indians watch Baseball\n",
      "Indians watch Cricket\n"
     ]
    }
   ],
   "source": [
    "#Declaring lists subjects,verbs,objects as follows\n",
    "\n",
    "subjects=[\"Americans\",\"Indians\"]\n",
    "verbs=[\"play\",\"watch\"]\n",
    "objects=[\"Baseball\",\"Cricket\"]\n",
    "\n",
    "#Displaying the below statement once before the actual o/p\n",
    "print(\"Required ouput is : \\n \")\n",
    "\n",
    "#Outer most loop to loop over list - subjects \n",
    "for i in subjects:\n",
    "    #Midlle loop to loop over  list - verbs\n",
    "    for j in verbs:\n",
    "        #Inner loop to loop over list - objects\n",
    "        for k in objects:\n",
    "            print( i + ' ' + j + ' ' + k)\n",
    "            \n"
   ]
  },
  {
   "cell_type": "markdown",
   "metadata": {},
   "source": [
    "# Task 2:\n"
   ]
  },
  {
   "cell_type": "markdown",
   "metadata": {},
   "source": [
    "Question 1:\n",
    "    \n",
    "Write a function so that the columns of the output matrix are powers of the input vector.\n",
    "The order of the powers is determined by the increasing boolean argument. Specifically, when\n",
    "increasing is False, the i-th output column is the input vector raised element-wise to the power\n",
    "of N - i - 1.\n",
    "\n",
    "HINT: Such a matrix with a geometric progression in each row is named for Alexandre-\n",
    "Theophile Vandermonde."
   ]
  },
  {
   "cell_type": "markdown",
   "metadata": {},
   "source": [
    "Notes on Vandermonde Matrix:\n",
    "\n",
    "numpy.vander\n",
    "numpy.vander(x, N=None, increasing=False)[source]\n",
    "Generate a Vandermonde matrix.\n",
    "\n",
    "The columns of the output matrix are powers of the input vector. The order of the powers is determined by the increasing boolean argument. Specifically, when increasing is False, the i-th output column is the input vector raised element-wise to the power of N - i - 1. Such a matrix with a geometric progression in each row is named for Alexandre- Theophile Vandermonde.\n",
    "\n",
    "Parameters:\t\n",
    "x : array_like\n",
    "1-D input array.\n",
    "\n",
    "N : int, optional\n",
    "Number of columns in the output. If N is not specified, a square array is returned (N = len(x)).\n",
    "\n",
    "increasing : bool, optional\n",
    "Order of the powers of the columns. If True, the powers increase from left to right, if False (the default) they are reversed.\n",
    "\n",
    "Returns:\t\n",
    "out : ndarray\n",
    "Vandermonde matrix. If increasing is False, the first column is x^(N-1), the second x^(N-2) and so forth. If increasing is True, the columns are x^0, x^1, ..., x^(N-1)."
   ]
  },
  {
   "cell_type": "code",
   "execution_count": 5,
   "metadata": {},
   "outputs": [],
   "source": [
    "#Importing numpy library as np \n",
    "import numpy as np"
   ]
  },
  {
   "cell_type": "code",
   "execution_count": 6,
   "metadata": {},
   "outputs": [],
   "source": [
    "#Creating an one -dimesional array array \n",
    "x = np.array([1, 10, 100, 1000])"
   ]
  },
  {
   "cell_type": "code",
   "execution_count": 7,
   "metadata": {},
   "outputs": [
    {
     "data": {
      "text/plain": [
       "array([[      1,       1,       1],\n",
       "       [    100,      10,       1],\n",
       "       [  10000,     100,       1],\n",
       "       [1000000,    1000,       1]])"
      ]
     },
     "execution_count": 7,
     "metadata": {},
     "output_type": "execute_result"
    }
   ],
   "source": [
    "#Generating Vandermonde matrix with below paramters x-1d array,N- No.of columns in o/p, increasing = False so the powers \n",
    "#decrease from left to right\n",
    "# x  - 1-D input array \n",
    "# N - int, optional Number of columns in the output. If N is not specified, a square array is returned (N = len(x)).\n",
    "#Considering the columns as 3 \n",
    "# increasing : bool, optional Order of the powers of the columns. If True, the powers increase from left to right, \n",
    "#if False (the default) they are reversed.\n",
    "\n",
    "np.vander(x,N=3, increasing = False)"
   ]
  },
  {
   "cell_type": "code",
   "execution_count": 8,
   "metadata": {},
   "outputs": [
    {
     "data": {
      "text/plain": [
       "array([[      1,       1,       1],\n",
       "       [      1,      10,     100],\n",
       "       [      1,     100,   10000],\n",
       "       [      1,    1000, 1000000]])"
      ]
     },
     "execution_count": 8,
     "metadata": {},
     "output_type": "execute_result"
    }
   ],
   "source": [
    "#Additional work just in case if we consider increasing = True the powers increase from left to right\n",
    "np.vander(x, N=3, increasing=True)"
   ]
  },
  {
   "cell_type": "code",
   "execution_count": null,
   "metadata": {},
   "outputs": [],
   "source": []
  }
 ],
 "metadata": {
  "kernelspec": {
   "display_name": "Python 3",
   "language": "python",
   "name": "python3"
  },
  "language_info": {
   "codemirror_mode": {
    "name": "ipython",
    "version": 3
   },
   "file_extension": ".py",
   "mimetype": "text/x-python",
   "name": "python",
   "nbconvert_exporter": "python",
   "pygments_lexer": "ipython3",
   "version": "3.7.3"
  }
 },
 "nbformat": 4,
 "nbformat_minor": 2
}
