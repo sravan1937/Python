{
 "cells": [
  {
   "cell_type": "markdown",
   "metadata": {},
   "source": [
    "Declaring Variables  \n",
    "\n",
    "In Python, a variable can be declared and then assigned a value without specifying data type. Python  automatically infers the variable type from values assigned to it. Also, the variable need not be assigned  a value of same type during its lifetime. A variable initialized with a value of one type (e.g., integer) can  later be re-assigned as value of a different type (e.g., string). This implicit conversion can increase productivity and code reusability.  \n",
    "\n",
    "Python supports the following variable types:  \n",
    "\n",
    "1. int – Integer type.  \n",
    "2. float – Floating point numbers.  \n",
    "3. bool – Booleans are subtypes of integers and assigned value using literals True and False.  \n",
    "4. str – Textual data.  \n",
    "\n",
    "Below is an example of creating a set of variables and assigning values of different data types, that is,  integer, float, Boolean, and string types. \n"
   ]
  },
  {
   "cell_type": "code",
   "execution_count": 2,
   "metadata": {},
   "outputs": [],
   "source": [
    "#Declaring variables\n",
    "var1 = 2\n",
    "var2 = 5.0\n",
    "var3 = True\n",
    "var4 = \"Machine Learning\"\n"
   ]
  },
  {
   "cell_type": "code",
   "execution_count": 3,
   "metadata": {},
   "outputs": [
    {
     "name": "stdout",
     "output_type": "stream",
     "text": [
      "2 5.0 True Machine Learning\n"
     ]
    }
   ],
   "source": [
    "print(var1,var2,var3,var4)"
   ]
  },
  {
   "cell_type": "code",
   "execution_count": 4,
   "metadata": {},
   "outputs": [
    {
     "name": "stdout",
     "output_type": "stream",
     "text": [
      "Value of var1 : 2\n",
      "Value of var2 : 5.0\n",
      "Value of var3 : True\n",
      "Value of var4 : Machine Learning\n"
     ]
    }
   ],
   "source": [
    "print(\"Value of var1 :\", var1)\n",
    "print(\"Value of var2 :\", var2)\n",
    "print(\"Value of var3 :\", var3)\n",
    "print(\"Value of var4 :\", var4)"
   ]
  },
  {
   "cell_type": "code",
   "execution_count": 6,
   "metadata": {},
   "outputs": [
    {
     "name": "stdout",
     "output_type": "stream",
     "text": [
      "<class 'int'>\n"
     ]
    },
    {
     "data": {
      "text/plain": [
       "str"
      ]
     },
     "execution_count": 6,
     "metadata": {},
     "output_type": "execute_result"
    }
   ],
   "source": [
    "#Exploring\n",
    "print(type(var1))\n",
    "type(var2)\n",
    "type(var3)\n",
    "type(var4)"
   ]
  },
  {
   "cell_type": "code",
   "execution_count": 21,
   "metadata": {},
   "outputs": [
    {
     "data": {
      "text/plain": [
       "1"
      ]
     },
     "execution_count": 21,
     "metadata": {},
     "output_type": "execute_result"
    }
   ],
   "source": [
    "#Exploring\n",
    "int(var3)"
   ]
  },
  {
   "cell_type": "code",
   "execution_count": 24,
   "metadata": {},
   "outputs": [
    {
     "data": {
      "text/plain": [
       "bool"
      ]
     },
     "execution_count": 24,
     "metadata": {},
     "output_type": "execute_result"
    }
   ],
   "source": [
    "type(var3)"
   ]
  },
  {
   "cell_type": "markdown",
   "metadata": {},
   "source": [
    "Conditional Statements\n",
    "\n",
    "Python supports if-elif-else for writing conditional statements.  The condition should be terminated by: (colon) and the code block following that must be indented.  Indentation in Python is not optional. It is a syntax of Python. The conditional statement need not be  enclosed with a bracket. \n"
   ]
  },
  {
   "cell_type": "code",
   "execution_count": 7,
   "metadata": {},
   "outputs": [
    {
     "name": "stdout",
     "output_type": "stream",
     "text": [
      "Bigger than 1\n"
     ]
    }
   ],
   "source": [
    "# Checking a condition if the variable value is more than 1\n",
    "if var1 > 1:\n",
    "    print( \"Bigger than 1\" )"
   ]
  },
  {
   "cell_type": "code",
   "execution_count": 8,
   "metadata": {},
   "outputs": [
    {
     "name": "stdout",
     "output_type": "stream",
     "text": [
      "x < y\n"
     ]
    }
   ],
   "source": [
    "x = 10\n",
    "y = 12\n",
    "# if x is greater than y\n",
    "if x > y:\n",
    "    print (\"x > y\")\n",
    "# if x is lesser than y\n",
    "elif x < y:\n",
    "    print (\"x < y\")\n",
    "else:\n",
    "    print (\"x = y\")"
   ]
  },
  {
   "cell_type": "markdown",
   "metadata": {},
   "source": [
    "Ternary operator enables to test a condition in a single line instead of the multi-line if-else. For example, assigning True or  False to variable based on condition check as below. \n"
   ]
  },
  {
   "cell_type": "code",
   "execution_count": 9,
   "metadata": {},
   "outputs": [],
   "source": [
    "# Initialize\n",
    "x = 5\n",
    "# Assign True if x is more than 10 or assign False using ternary operator\n",
    "isGreater = True if x > 10 else False"
   ]
  },
  {
   "cell_type": "code",
   "execution_count": 10,
   "metadata": {},
   "outputs": [
    {
     "data": {
      "text/plain": [
       "False"
      ]
     },
     "execution_count": 10,
     "metadata": {},
     "output_type": "execute_result"
    }
   ],
   "source": [
    "isGreater"
   ]
  },
  {
   "cell_type": "markdown",
   "metadata": {},
   "source": [
    "Generating Sequence Numbers\n",
    "\n",
    "Sometimes it may be necessary to create a sequence of numbers. range() function generates a sequence  of numbers. It takes the following three parameters.  \n",
    "\n",
    "1. start: Starting number of the sequence.  \n",
    "2. stop: Generate numbers up to, but not including, this number.  \n",
    "3. step: Difference between each number in the sequence. It is optional and default value is 1. \n"
   ]
  },
  {
   "cell_type": "code",
   "execution_count": 11,
   "metadata": {},
   "outputs": [
    {
     "data": {
      "text/plain": [
       "range(1, 6)"
      ]
     },
     "execution_count": 11,
     "metadata": {},
     "output_type": "execute_result"
    }
   ],
   "source": [
    "# Initializing the sequence of numbers starting from 1\n",
    "# and ending (not including) with 6\n",
    "numbers = range( 1, 6 )\n",
    "numbers"
   ]
  },
  {
   "cell_type": "markdown",
   "metadata": {},
   "source": [
    "Control Flow Statements\n",
    "\n",
    "A for loop can be used to print the sequence of numbers by iterating through it as follows. "
   ]
  },
  {
   "cell_type": "code",
   "execution_count": 12,
   "metadata": {},
   "outputs": [
    {
     "name": "stdout",
     "output_type": "stream",
     "text": [
      "1\n",
      "2\n",
      "3\n",
      "4\n",
      "5\n"
     ]
    }
   ],
   "source": [
    "# Iterate through the collection\n",
    "for i in numbers:\n",
    "    print (i)"
   ]
  },
  {
   "cell_type": "markdown",
   "metadata": {},
   "source": [
    "The for loop automatically advances the iterator through the range after every loop and completes after  the iterator reaches the end. The above loop prints values from 1 to 5 as numbers variable contains range  from 1 to 6 (not including 6).  A while loop is used to keep executing a loop until a condition is false. We can print a list of integer  from 1 to 5 using while loop as follows: \n",
    " "
   ]
  },
  {
   "cell_type": "code",
   "execution_count": 13,
   "metadata": {},
   "outputs": [
    {
     "name": "stdout",
     "output_type": "stream",
     "text": [
      "1\n",
      "2\n",
      "3\n",
      "4\n",
      "Done\n"
     ]
    }
   ],
   "source": [
    "# Initialize the value of 1\n",
    "i = 1\n",
    "# check the value of i to check if the loop will be continued or not\n",
    "while i < 5:\n",
    "    print(i)\n",
    "    # Increment the value of i.\n",
    "    i = i+1\n",
    "# print after the value of i\n",
    "print('Done')"
   ]
  },
  {
   "cell_type": "markdown",
   "metadata": {},
   "source": [
    "In while loop, the state of i has to be managed explicitly. There is a good chance of going into an infinite  loop if the state of i is not incremented. "
   ]
  },
  {
   "cell_type": "markdown",
   "metadata": {},
   "source": [
    "Functions\n",
    "\n",
    "Functions are the most important part of a language.  \n",
    "\n",
    "1. Functions can be created using def keyword.  \n",
    "\n",
    "2. The function signature should contain the function name followed by the input parameters  enclosed in brackets and must end with a colon (:).  \n",
    "\n",
    "3. Parameters are optional if initialized in the definition. The code block inside the method should  be indented. \n",
    "\n",
    "4. The function ends with a return statement. No return statement implies the function returns  None, which is same as void return type in languages such as C, C++, or Java.  \n",
    "\n",
    "The data types of parameters and return types are inferred at runtime.  The following is an example of a function which takes two parameters and returns the addition of  their values using “+” operator. "
   ]
  },
  {
   "cell_type": "code",
   "execution_count": 14,
   "metadata": {},
   "outputs": [],
   "source": [
    "def addElements( a, b ):\n",
    "    return a + b"
   ]
  },
  {
   "cell_type": "code",
   "execution_count": 15,
   "metadata": {},
   "outputs": [
    {
     "data": {
      "text/plain": [
       "5"
      ]
     },
     "execution_count": 15,
     "metadata": {},
     "output_type": "execute_result"
    }
   ],
   "source": [
    "result = addElements( 2, 3 )\n",
    "result"
   ]
  },
  {
   "cell_type": "code",
   "execution_count": 16,
   "metadata": {},
   "outputs": [
    {
     "data": {
      "text/plain": [
       "6.8"
      ]
     },
     "execution_count": 16,
     "metadata": {},
     "output_type": "execute_result"
    }
   ],
   "source": [
    "result = addElements( 2.3, 4.5 )\n",
    "result"
   ]
  },
  {
   "cell_type": "code",
   "execution_count": 17,
   "metadata": {},
   "outputs": [
    {
     "data": {
      "text/plain": [
       "'pythonworkshop'"
      ]
     },
     "execution_count": 17,
     "metadata": {},
     "output_type": "execute_result"
    }
   ],
   "source": [
    "result = addElements( \"python\", \"workshop\" )\n",
    "result"
   ]
  },
  {
   "cell_type": "code",
   "execution_count": 18,
   "metadata": {},
   "outputs": [],
   "source": [
    "def addElements( a, b = 4 ):\n",
    "    return a + b"
   ]
  },
  {
   "cell_type": "code",
   "execution_count": 19,
   "metadata": {},
   "outputs": [
    {
     "data": {
      "text/plain": [
       "6"
      ]
     },
     "execution_count": 19,
     "metadata": {},
     "output_type": "execute_result"
    }
   ],
   "source": [
    "addElements( 2 )"
   ]
  },
  {
   "cell_type": "code",
   "execution_count": 20,
   "metadata": {},
   "outputs": [
    {
     "data": {
      "text/plain": [
       "7"
      ]
     },
     "execution_count": 20,
     "metadata": {},
     "output_type": "execute_result"
    }
   ],
   "source": [
    "addElements( 2, 5 )"
   ]
  },
  {
   "cell_type": "markdown",
   "metadata": {},
   "source": [
    "It can be observed that the data type of parameters and return types are automatically determined based  on values passed to the function. If two strings are passed, they are concatenated as the + operator is also  overloaded for string concatenation.  The default value for the parameters can be defined in function signatures. This makes the  parameter optional.  \n",
    "\n",
    "Example: Defining the method addElements() with parameter b initialized to 4. \n"
   ]
  },
  {
   "cell_type": "markdown",
   "metadata": {},
   "source": [
    "Working with Collections\n",
    "\n",
    "Collections are useful containers or data structures to store and manipulate list of homogeneous or heterogeneous elements. We will discuss the following collections in this section:  \n",
    "\n",
    "1. List  \n",
    "2. Tuple  \n",
    "3. Set  \n",
    "4. Dictionary \n"
   ]
  },
  {
   "cell_type": "markdown",
   "metadata": {},
   "source": [
    "List\n",
    "\n",
    "Lists are like arrays, but can contain heterogeneous items, that is, a single list can contain items of type  integer, float, string, or objects. \n",
    "\n",
    "It is also not a unique set of items, that is, the values can repeat. Lists are  mutable and generally initialized with a list of values specified inside square brackets or an empty list. \n"
   ]
  },
  {
   "cell_type": "code",
   "execution_count": 22,
   "metadata": {},
   "outputs": [],
   "source": [
    "## Create an empty list\n",
    "emptyList = []"
   ]
  },
  {
   "cell_type": "code",
   "execution_count": 21,
   "metadata": {},
   "outputs": [],
   "source": [
    "batsmen = ['Rohit', 'Dhawan', 'Kohli', 'Rahane', 'Rayudu', 'Dhoni']"
   ]
  },
  {
   "cell_type": "markdown",
   "metadata": {},
   "source": [
    "The list index starts with 0. An item in the list can be accessed using index as follows: "
   ]
  },
  {
   "cell_type": "code",
   "execution_count": 23,
   "metadata": {},
   "outputs": [
    {
     "data": {
      "text/plain": [
       "'Rohit'"
      ]
     },
     "execution_count": 23,
     "metadata": {},
     "output_type": "execute_result"
    }
   ],
   "source": [
    "batsmen[0]"
   ]
  },
  {
   "cell_type": "markdown",
   "metadata": {},
   "source": [
    "A slice of the list can be obtained using an index range separated by a colon (:). \n",
    "\n",
    "A range [0:2] means starting with index 0 until index 2, but not including 2. \n"
   ]
  },
  {
   "cell_type": "code",
   "execution_count": 24,
   "metadata": {},
   "outputs": [
    {
     "data": {
      "text/plain": [
       "['Rohit', 'Dhawan']"
      ]
     },
     "execution_count": 24,
     "metadata": {},
     "output_type": "execute_result"
    }
   ],
   "source": [
    "## Slicing an list\n",
    "batsmen[0:2]"
   ]
  },
  {
   "cell_type": "code",
   "execution_count": 25,
   "metadata": {},
   "outputs": [
    {
     "data": {
      "text/plain": [
       "'Dhoni'"
      ]
     },
     "execution_count": 25,
     "metadata": {},
     "output_type": "execute_result"
    }
   ],
   "source": [
    "## Accessing the last element\n",
    "batsmen[-1]"
   ]
  },
  {
   "cell_type": "code",
   "execution_count": 26,
   "metadata": {},
   "outputs": [
    {
     "data": {
      "text/plain": [
       "6"
      ]
     },
     "execution_count": 26,
     "metadata": {},
     "output_type": "execute_result"
    }
   ],
   "source": [
    "# how many elements in the list\n",
    "len( batsmen )"
   ]
  },
  {
   "cell_type": "code",
   "execution_count": 27,
   "metadata": {},
   "outputs": [],
   "source": [
    "bowlers = ['Bumrah', 'Shami', 'Bhuvi', 'Kuldeep', 'Chahal']"
   ]
  },
  {
   "cell_type": "code",
   "execution_count": 28,
   "metadata": {},
   "outputs": [
    {
     "data": {
      "text/plain": [
       "['Rohit',\n",
       " 'Dhawan',\n",
       " 'Kohli',\n",
       " 'Rahane',\n",
       " 'Rayudu',\n",
       " 'Dhoni',\n",
       " 'Bumrah',\n",
       " 'Shami',\n",
       " 'Bhuvi',\n",
       " 'Kuldeep',\n",
       " 'Chahal']"
      ]
     },
     "execution_count": 28,
     "metadata": {},
     "output_type": "execute_result"
    }
   ],
   "source": [
    "#Two separate lists can be concatenated into one list using + operator. \n",
    "\n",
    "all_players = batsmen + bowlers\n",
    "all_players "
   ]
  },
  {
   "cell_type": "markdown",
   "metadata": {},
   "source": [
    " Finding if an item exists in a list or not, the in operator can be used. It returns True if exists, else  returns False."
   ]
  },
  {
   "cell_type": "code",
   "execution_count": 29,
   "metadata": {},
   "outputs": [
    {
     "data": {
      "text/plain": [
       "True"
      ]
     },
     "execution_count": 29,
     "metadata": {},
     "output_type": "execute_result"
    }
   ],
   "source": [
    "'Bumrah' in bowlers"
   ]
  },
  {
   "cell_type": "code",
   "execution_count": 30,
   "metadata": {},
   "outputs": [
    {
     "data": {
      "text/plain": [
       "False"
      ]
     },
     "execution_count": 30,
     "metadata": {},
     "output_type": "execute_result"
    }
   ],
   "source": [
    "'Rayudu' in bowlers"
   ]
  },
  {
   "cell_type": "code",
   "execution_count": 31,
   "metadata": {},
   "outputs": [
    {
     "data": {
      "text/plain": [
       "5"
      ]
     },
     "execution_count": 31,
     "metadata": {},
     "output_type": "execute_result"
    }
   ],
   "source": [
    "#Finding the index of an item in the list.\n",
    "\n",
    "all_players.index( 'Dhoni' )"
   ]
  },
  {
   "cell_type": "code",
   "execution_count": 32,
   "metadata": {},
   "outputs": [
    {
     "data": {
      "text/plain": [
       "['Chahal',\n",
       " 'Kuldeep',\n",
       " 'Bhuvi',\n",
       " 'Shami',\n",
       " 'Bumrah',\n",
       " 'Dhoni',\n",
       " 'Rayudu',\n",
       " 'Rahane',\n",
       " 'Kohli',\n",
       " 'Dhawan',\n",
       " 'Rohit']"
      ]
     },
     "execution_count": 32,
     "metadata": {},
     "output_type": "execute_result"
    }
   ],
   "source": [
    "#The items in a list can be arranged in reverse order by calling reverse() function on the list. \n",
    "\n",
    "all_players.reverse()\n",
    "all_players"
   ]
  },
  {
   "cell_type": "markdown",
   "metadata": {},
   "source": [
    "Tuples\n",
    "\n",
    "Tuple is also a list, but it is immutable. Once a tuple has been created it cannot be modified. For example, create a tuple which can contain the name of a cricketer and the year of his one-day international  (ODI) debut. "
   ]
  },
  {
   "cell_type": "code",
   "execution_count": 33,
   "metadata": {},
   "outputs": [],
   "source": [
    "odiDebut = ( 'Kohli', 2008 )"
   ]
  },
  {
   "cell_type": "code",
   "execution_count": 34,
   "metadata": {},
   "outputs": [
    {
     "data": {
      "text/plain": [
       "('Kohli', 2008)"
      ]
     },
     "execution_count": 34,
     "metadata": {},
     "output_type": "execute_result"
    }
   ],
   "source": [
    "odiDebut"
   ]
  },
  {
   "cell_type": "code",
   "execution_count": 35,
   "metadata": {},
   "outputs": [
    {
     "data": {
      "text/plain": [
       "'Kohli'"
      ]
     },
     "execution_count": 35,
     "metadata": {},
     "output_type": "execute_result"
    }
   ],
   "source": [
    "#Tuple element’s index also starts with 0. \n",
    "\n",
    "odiDebut[0]"
   ]
  },
  {
   "cell_type": "code",
   "execution_count": 36,
   "metadata": {},
   "outputs": [
    {
     "ename": "NameError",
     "evalue": "name 'tup1' is not defined",
     "output_type": "error",
     "traceback": [
      "\u001b[1;31m---------------------------------------------------------------------------\u001b[0m",
      "\u001b[1;31mNameError\u001b[0m                                 Traceback (most recent call last)",
      "\u001b[1;32m<ipython-input-36-9195c07b537c>\u001b[0m in \u001b[0;36m<module>\u001b[1;34m\u001b[0m\n\u001b[1;32m----> 1\u001b[1;33m \u001b[0mtup1\u001b[0m\u001b[1;33m[\u001b[0m\u001b[1;36m1\u001b[0m\u001b[1;33m]\u001b[0m \u001b[1;33m=\u001b[0m \u001b[1;36m2009\u001b[0m\u001b[1;33m\u001b[0m\u001b[1;33m\u001b[0m\u001b[0m\n\u001b[0m",
      "\u001b[1;31mNameError\u001b[0m: name 'tup1' is not defined"
     ]
    }
   ],
   "source": [
    "#It is not allowed to change the tuple elements. For example, if we try to change the year in the tuple, it  will give an error. \n",
    "\n",
    "tup1[1] = 2009"
   ]
  },
  {
   "cell_type": "code",
   "execution_count": 37,
   "metadata": {},
   "outputs": [],
   "source": [
    "#An existing list can be converted into tuple using tuple type cast. We convert the list all_players into  tuple so that it cannot be modified anymore. \n",
    "\n",
    "players = tuple( all_players )"
   ]
  },
  {
   "cell_type": "code",
   "execution_count": 38,
   "metadata": {},
   "outputs": [
    {
     "data": {
      "text/plain": [
       "('Chahal',\n",
       " 'Kuldeep',\n",
       " 'Bhuvi',\n",
       " 'Shami',\n",
       " 'Bumrah',\n",
       " 'Dhoni',\n",
       " 'Rayudu',\n",
       " 'Rahane',\n",
       " 'Kohli',\n",
       " 'Dhawan',\n",
       " 'Rohit')"
      ]
     },
     "execution_count": 38,
     "metadata": {},
     "output_type": "execute_result"
    }
   ],
   "source": [
    "players"
   ]
  },
  {
   "cell_type": "markdown",
   "metadata": {},
   "source": [
    "# Set\n",
    "\n",
    "A set is a collection of unique elements, that is, the values cannot repeat. A set can be initialized with a  list of items enclosed with curly brackets. "
   ]
  },
  {
   "cell_type": "code",
   "execution_count": 39,
   "metadata": {},
   "outputs": [],
   "source": [
    "setOfNumbers = {6,1,1,2,4,5}"
   ]
  },
  {
   "cell_type": "markdown",
   "metadata": {},
   "source": [
    "The set automatically removes duplicates and contains only unique list of numbers. "
   ]
  },
  {
   "cell_type": "code",
   "execution_count": 40,
   "metadata": {},
   "outputs": [
    {
     "data": {
      "text/plain": [
       "{1, 2, 4, 5, 6}"
      ]
     },
     "execution_count": 40,
     "metadata": {},
     "output_type": "execute_result"
    }
   ],
   "source": [
    "setOfNumbers"
   ]
  },
  {
   "cell_type": "markdown",
   "metadata": {},
   "source": [
    "The set supports operations such as union, intersection, and difference.  To understand these operations, let us create two sets with list of batsmen who played for India in  2011 and 2015 world cup teams. \n"
   ]
  },
  {
   "cell_type": "code",
   "execution_count": 41,
   "metadata": {},
   "outputs": [],
   "source": [
    "wc2011 = {\"Dhoni\", \"Sehwag\", \"Tendulkar\", \"Gambhir\", \"Kohli\", \"Raina\", \"Yuvraj\",\"Yusuf\"}\n",
    "wc2015 = {\"Dhoni\", \"Dhawan\", \"Rohit\", \"Rahane\", \"Kohli\", \"Raina\", \"Rayudu\", \"Jadeja\"}"
   ]
  },
  {
   "cell_type": "code",
   "execution_count": 42,
   "metadata": {},
   "outputs": [
    {
     "data": {
      "text/plain": [
       "{'Dhawan',\n",
       " 'Dhoni',\n",
       " 'Gambhir',\n",
       " 'Jadeja',\n",
       " 'Kohli',\n",
       " 'Rahane',\n",
       " 'Raina',\n",
       " 'Rayudu',\n",
       " 'Rohit',\n",
       " 'Sehwag',\n",
       " 'Tendulkar',\n",
       " 'Yusuf',\n",
       " 'Yuvraj'}"
      ]
     },
     "execution_count": 42,
     "metadata": {},
     "output_type": "execute_result"
    }
   ],
   "source": [
    "#To find the list of all batsmen who played in either 2011 or 2015 world cup, we can take union of the  above two sets. \n",
    " \n",
    "wc2011.union( wc2015 )"
   ]
  },
  {
   "cell_type": "code",
   "execution_count": 43,
   "metadata": {},
   "outputs": [
    {
     "data": {
      "text/plain": [
       "{'Dhoni', 'Kohli', 'Raina'}"
      ]
     },
     "execution_count": 43,
     "metadata": {},
     "output_type": "execute_result"
    }
   ],
   "source": [
    "#To find the list of all batsmen who played for both 2011 and 2015 world cup, we can take intersection of  these two sets wc2011 and wc2015. \n",
    "\n",
    "wc2011.intersection( wc2015 )"
   ]
  },
  {
   "cell_type": "code",
   "execution_count": 44,
   "metadata": {},
   "outputs": [
    {
     "data": {
      "text/plain": [
       "{'Dhawan', 'Jadeja', 'Rahane', 'Rayudu', 'Rohit'}"
      ]
     },
     "execution_count": 44,
     "metadata": {},
     "output_type": "execute_result"
    }
   ],
   "source": [
    "#If we need to find the new batsmen who were not part of 2011 world cup and played in 2015 world cup,  we take difference of wc2015 from wc2011. \n",
    "\n",
    "wc2015.difference( wc2011 )"
   ]
  },
  {
   "cell_type": "markdown",
   "metadata": {},
   "source": [
    "# Dictionary\n",
    "\n",
    "Dictionary is a list of key and value pairs. All the keys in a dictionary are unique. \n",
    "For example, a dictionary that contains the ICC ODI World Cup winner from 1975 till 2011, where the key is year of tournament and the value is the name of the winning country.  "
   ]
  },
  {
   "cell_type": "code",
   "execution_count": 45,
   "metadata": {},
   "outputs": [],
   "source": [
    "wcWinners = { 1975: \"West Indies\",\n",
    "1979: \"West Indies\",\n",
    "1983: \"India\",\n",
    "1987: \"Australia\",\n",
    "1991: \"Pakistan\",\n",
    "1996: \"Srilanka\",\n",
    "1999: \"Australia\",\n",
    "2003: \"Australia\",\n",
    "2007: \"Australia\",\n",
    "2011: \"India\"}"
   ]
  },
  {
   "cell_type": "markdown",
   "metadata": {},
   "source": [
    "The value of a specific dictionary element can be accessed by key. For example, to find the winning country in a specific year. "
   ]
  },
  {
   "cell_type": "code",
   "execution_count": 46,
   "metadata": {},
   "outputs": [
    {
     "data": {
      "text/plain": [
       "'India'"
      ]
     },
     "execution_count": 46,
     "metadata": {},
     "output_type": "execute_result"
    }
   ],
   "source": [
    "wcWinners[1983]"
   ]
  },
  {
   "cell_type": "code",
   "execution_count": 47,
   "metadata": {},
   "outputs": [
    {
     "data": {
      "text/plain": [
       "{1975: 'West Indies',\n",
       " 1979: 'West Indies',\n",
       " 1983: 'India',\n",
       " 1987: 'Australia',\n",
       " 1991: 'Pakistan',\n",
       " 1996: 'Srilanka',\n",
       " 1999: 'Australia',\n",
       " 2003: 'Australia',\n",
       " 2007: 'Australia',\n",
       " 2011: 'India'}"
      ]
     },
     "execution_count": 47,
     "metadata": {},
     "output_type": "execute_result"
    }
   ],
   "source": [
    "#For a list of all winning countries use the following code: \n",
    " \n",
    "wcWinners.values()"
   ]
  },
  {
   "cell_type": "markdown",
   "metadata": {},
   "source": [
    "The above list had repeated names of certain countries as they have won multiple times. To find unique  list of countries, the above list can be converted to a set. \n"
   ]
  },
  {
   "cell_type": "code",
   "execution_count": 69,
   "metadata": {},
   "outputs": [
    {
     "data": {
      "text/plain": [
       "{'Australia', 'India', 'Pakistan', 'Srilanka', 'West Indies'}"
      ]
     },
     "execution_count": 69,
     "metadata": {},
     "output_type": "execute_result"
    }
   ],
   "source": [
    "set(wcWinners.values()) "
   ]
  },
  {
   "cell_type": "markdown",
   "metadata": {},
   "source": [
    "To adding a new key-value pair to the dictionary, use the following code: "
   ]
  },
  {
   "cell_type": "code",
   "execution_count": 72,
   "metadata": {},
   "outputs": [
    {
     "data": {
      "text/plain": [
       "{1975: 'West Indies',\n",
       " 1979: 'West Indies',\n",
       " 1983: 'India',\n",
       " 1987: 'Australia',\n",
       " 1991: 'Pakistan',\n",
       " 1996: 'Srilanka',\n",
       " 1999: 'Australia',\n",
       " 2003: 'Australia',\n",
       " 2007: 'Australia',\n",
       " 2011: 'India',\n",
       " 2015: 'Australia'}"
      ]
     },
     "execution_count": 72,
     "metadata": {},
     "output_type": "execute_result"
    }
   ],
   "source": [
    "wcWinners[2015] = 'Australia'\n",
    "wcWinners"
   ]
  },
  {
   "cell_type": "markdown",
   "metadata": {},
   "source": [
    "Dealing with Strings\n",
    "\n",
    "A string in Python can be initialized with single or double quotes. "
   ]
  },
  {
   "cell_type": "code",
   "execution_count": 48,
   "metadata": {},
   "outputs": [],
   "source": [
    "string0 = 'python'\n",
    "string1 = \"machine learning\""
   ]
  },
  {
   "cell_type": "code",
   "execution_count": 49,
   "metadata": {},
   "outputs": [],
   "source": [
    "#If multiline, the string can be initialized with triple quotes as below. \n",
    "string2 = \"\"\"This is a\n",
    "multiline string\"\"\""
   ]
  },
  {
   "cell_type": "code",
   "execution_count": 50,
   "metadata": {},
   "outputs": [
    {
     "data": {
      "text/plain": [
       "'PYTHON'"
      ]
     },
     "execution_count": 50,
     "metadata": {},
     "output_type": "execute_result"
    }
   ],
   "source": [
    "# Converting to upper case\n",
    "string0.upper()\n",
    "# Similarly string.lower() can be used to convert to lower case.\n",
    "# string0.lower()"
   ]
  },
  {
   "cell_type": "markdown",
   "metadata": {},
   "source": [
    "For splitting the string into a list of words or tokens separated by space use the following: "
   ]
  },
  {
   "cell_type": "code",
   "execution_count": 51,
   "metadata": {},
   "outputs": [
    {
     "data": {
      "text/plain": [
       "['machine', 'learning']"
      ]
     },
     "execution_count": 51,
     "metadata": {},
     "output_type": "execute_result"
    }
   ],
   "source": [
    "tokens = string1.split(' ')\n",
    "tokens"
   ]
  },
  {
   "cell_type": "markdown",
   "metadata": {},
   "source": [
    "# Functional Programming\n",
    "\n",
    "Functional programming supports functions being passed as parameters to another function like variables. This allows to create higher order functions. One core benefits of functional programming in  data analysis is applying transformations or filters to a set of records or columns more efficiently than  using plain looping. \n"
   ]
  },
  {
   "cell_type": "markdown",
   "metadata": {},
   "source": [
    "Example 1: Map\n",
    "\n",
    "Let us say we have a list named intList which contains integers as defined below. "
   ]
  },
  {
   "cell_type": "code",
   "execution_count": 52,
   "metadata": {},
   "outputs": [],
   "source": [
    "intList = [1,2,3,4,5,6,7,8,9]"
   ]
  },
  {
   "cell_type": "markdown",
   "metadata": {},
   "source": [
    "We want to create another list named squareList, which contains the squared value of all elements in  intList. Typical approach to accomplish this is to write a for loop as below. "
   ]
  },
  {
   "cell_type": "code",
   "execution_count": 53,
   "metadata": {},
   "outputs": [
    {
     "name": "stdout",
     "output_type": "stream",
     "text": [
      "[1, 4, 9, 16, 25, 36, 49, 64, 81]\n"
     ]
    }
   ],
   "source": [
    "# Create an empty list.\n",
    "squareList = []\n",
    "# Loop through the intList, square every item and append to result list squareList.\n",
    "for x in intList:\n",
    "    squareList.append( pow( x, 2 ) )\n",
    "\n",
    "print( squareList )"
   ]
  },
  {
   "cell_type": "markdown",
   "metadata": {},
   "source": [
    "The above code is quite verbose and not efficient. The loop transforms items in sequential fashion and  has no scope of parallel processing. Using functional programming approach, this can be written more  efficiently as described below in steps.  "
   ]
  },
  {
   "cell_type": "markdown",
   "metadata": {},
   "source": [
    "Step 1: Define a function square_me() that takes an integer and returns the square value of it. "
   ]
  },
  {
   "cell_type": "code",
   "execution_count": 74,
   "metadata": {},
   "outputs": [],
   "source": [
    "def square_me( x ):\n",
    "    return x * x"
   ]
  },
  {
   "cell_type": "markdown",
   "metadata": {},
   "source": [
    "Step 2: The function square_me and the list of integers can be passed to a higher order function map().  map() iterates through the list and transforms each element using the function.  "
   ]
  },
  {
   "cell_type": "code",
   "execution_count": 55,
   "metadata": {},
   "outputs": [],
   "source": [
    "squareList = map( square_me, intList)"
   ]
  },
  {
   "cell_type": "code",
   "execution_count": 56,
   "metadata": {},
   "outputs": [
    {
     "data": {
      "text/plain": [
       "[1, 4, 9, 16, 25, 36, 49, 64, 81]"
      ]
     },
     "execution_count": 56,
     "metadata": {},
     "output_type": "execute_result"
    }
   ],
   "source": [
    "list(squareList)"
   ]
  },
  {
   "cell_type": "markdown",
   "metadata": {},
   "source": [
    "The square function square_me() we used is just one line of code and can actually be written as an  anonymous function. Anonymous function is a function without a name and is defined using lambda  keyword. "
   ]
  },
  {
   "cell_type": "code",
   "execution_count": 57,
   "metadata": {},
   "outputs": [
    {
     "data": {
      "text/plain": [
       "[1, 4, 9, 16, 25, 36, 49, 64, 81]"
      ]
     },
     "execution_count": 57,
     "metadata": {},
     "output_type": "execute_result"
    }
   ],
   "source": [
    "#Write the above map using anonymous function. \n",
    " \n",
    "squareList = map(lambda x: x*x, intList)\n",
    "list(squareList)"
   ]
  },
  {
   "cell_type": "markdown",
   "metadata": {},
   "source": [
    "Example 2: Filter\n",
    "\n",
    "Similarly, filters can also be applied using functional programming. For example, in case we want to  select only the even numbers from the numbers in the list intList. It will filter only those numbers which  are divisible by 2 and can be achieved using higher order function filter().  filter() takes a function as an argument, which should act like a filter and return True or False.  If returns False, the element will be filtered out. To verify if an integer is even, we can use filter  x% 2 == 0. "
   ]
  },
  {
   "cell_type": "code",
   "execution_count": 58,
   "metadata": {},
   "outputs": [],
   "source": [
    "evenInts = filter( lambda x : x % 2 == 0, intList )"
   ]
  },
  {
   "cell_type": "code",
   "execution_count": 59,
   "metadata": {},
   "outputs": [
    {
     "data": {
      "text/plain": [
       "[2, 4, 6, 8]"
      ]
     },
     "execution_count": 59,
     "metadata": {},
     "output_type": "execute_result"
    }
   ],
   "source": [
    "list( evenInts )"
   ]
  },
  {
   "cell_type": "markdown",
   "metadata": {},
   "source": [
    "Functional programming is an important aspect of Python programming and will be used extensively  during data analysis. During data analysis, we will deal with mostly a collection of records. So, to accomplish tasks like transformations or filters, functional programming can be very handy in the place of  plain looping. \n"
   ]
  },
  {
   "cell_type": "markdown",
   "metadata": {},
   "source": [
    "# Modules and Packages\n",
    "\n",
    "In Python, a module is a file that consists of functions, classes, and variables. A set of modules under a namespace (mostly a directory) is called a package. The modules and packages can be imported to another module using import statement. \n",
    "\n",
    "For example, to use mathematical functions, Python’s math  module can be imported. "
   ]
  },
  {
   "cell_type": "code",
   "execution_count": 60,
   "metadata": {},
   "outputs": [
    {
     "data": {
      "text/plain": [
       "4.0"
      ]
     },
     "execution_count": 60,
     "metadata": {},
     "output_type": "execute_result"
    }
   ],
   "source": [
    "import math\n",
    "## Taking square root of a value\n",
    "math.sqrt(16)"
   ]
  },
  {
   "cell_type": "markdown",
   "metadata": {},
   "source": [
    "Using from…import syntax, a specific module or object (e.g., class or function) can be imported from a  package. For example, to import only sample() function from random module the following import style  can be used. "
   ]
  },
  {
   "cell_type": "code",
   "execution_count": 61,
   "metadata": {},
   "outputs": [],
   "source": [
    "from random import sample"
   ]
  },
  {
   "cell_type": "markdown",
   "metadata": {},
   "source": [
    "Another example is generating a random set of numbers in a range, that is, range(0, 10). random.sample()  takes the range function and number of random numbers to be generated as parameters. The code below  helps to generate 3 random numbers between 0 and 10. "
   ]
  },
  {
   "cell_type": "code",
   "execution_count": 62,
   "metadata": {},
   "outputs": [
    {
     "data": {
      "text/plain": [
       "[3, 1, 7]"
      ]
     },
     "execution_count": 62,
     "metadata": {},
     "output_type": "execute_result"
    }
   ],
   "source": [
    "sample( range(0, 11), 3)"
   ]
  },
  {
   "cell_type": "markdown",
   "metadata": {},
   "source": [
    "Other Features\n",
    "\n",
    "It may be necessary to return multiple values from a function. This can be achieved by returning a tuple.  This is an important feature we will be using in the subsequent chapters.  \n",
    "\n",
    "For example, define a function that returns the mean and the median of a list of numbers generated  randomly. \n"
   ]
  },
  {
   "cell_type": "code",
   "execution_count": 63,
   "metadata": {},
   "outputs": [
    {
     "data": {
      "text/plain": [
       "[72, 3, 65, 1, 51, 69, 74, 99, 16, 53, 68, 27, 95, 81, 56, 64, 67, 32, 19, 96]"
      ]
     },
     "execution_count": 63,
     "metadata": {},
     "output_type": "execute_result"
    }
   ],
   "source": [
    "import random\n",
    "randomList = random.sample( range(0, 100), 20)\n",
    "randomList"
   ]
  },
  {
   "cell_type": "code",
   "execution_count": 64,
   "metadata": {},
   "outputs": [],
   "source": [
    "from statistics import mean, median\n",
    "def getMeanAndMedian( listNum ):\n",
    "    return mean(listNum), median(listNum)"
   ]
  },
  {
   "cell_type": "markdown",
   "metadata": {},
   "source": [
    "getMeanAndMedian() returns a tuple with two elements and is stored into two separate variables during  invocation. \n"
   ]
  },
  {
   "cell_type": "code",
   "execution_count": 65,
   "metadata": {},
   "outputs": [],
   "source": [
    "mean, median = getMeanAndMedian( randomList )"
   ]
  },
  {
   "cell_type": "code",
   "execution_count": 66,
   "metadata": {},
   "outputs": [
    {
     "name": "stdout",
     "output_type": "stream",
     "text": [
      "Mean:  55.4  Median:  64.5\n"
     ]
    }
   ],
   "source": [
    "print( \"Mean: \", mean, \" Median: \", median)"
   ]
  },
  {
   "cell_type": "code",
   "execution_count": null,
   "metadata": {},
   "outputs": [],
   "source": []
  },
  {
   "cell_type": "code",
   "execution_count": null,
   "metadata": {},
   "outputs": [],
   "source": []
  },
  {
   "cell_type": "code",
   "execution_count": 26,
   "metadata": {},
   "outputs": [],
   "source": [
    "lis = [10 , [-1,2,3,4,5]]"
   ]
  },
  {
   "cell_type": "code",
   "execution_count": 28,
   "metadata": {},
   "outputs": [
    {
     "data": {
      "text/plain": [
       "list"
      ]
     },
     "execution_count": 28,
     "metadata": {},
     "output_type": "execute_result"
    }
   ],
   "source": [
    "type(lis)"
   ]
  },
  {
   "cell_type": "code",
   "execution_count": 34,
   "metadata": {},
   "outputs": [],
   "source": [
    "x = [10,20,0,4,5]"
   ]
  },
  {
   "cell_type": "code",
   "execution_count": 41,
   "metadata": {},
   "outputs": [],
   "source": [
    "y = bytes(x)"
   ]
  },
  {
   "cell_type": "code",
   "execution_count": 42,
   "metadata": {},
   "outputs": [
    {
     "name": "stdout",
     "output_type": "stream",
     "text": [
      "b'\\n\\x14\\x00\\x04\\x05'\n"
     ]
    }
   ],
   "source": [
    "print(y)"
   ]
  },
  {
   "cell_type": "code",
   "execution_count": 43,
   "metadata": {},
   "outputs": [
    {
     "data": {
      "text/plain": [
       "bytes"
      ]
     },
     "execution_count": 43,
     "metadata": {},
     "output_type": "execute_result"
    }
   ],
   "source": [
    "type(y)"
   ]
  },
  {
   "cell_type": "code",
   "execution_count": 45,
   "metadata": {},
   "outputs": [
    {
     "data": {
      "text/plain": [
       "list"
      ]
     },
     "execution_count": 45,
     "metadata": {},
     "output_type": "execute_result"
    }
   ],
   "source": [
    "type(x)Lst = [ 10, -20, 15.5, ‘Sravan’, “Roger”]"
   ]
  },
  {
   "cell_type": "code",
   "execution_count": 48,
   "metadata": {},
   "outputs": [
    {
     "ename": "TypeError",
     "evalue": "'int' object is not iterable",
     "output_type": "error",
     "traceback": [
      "\u001b[1;31m---------------------------------------------------------------------------\u001b[0m",
      "\u001b[1;31mTypeError\u001b[0m                                 Traceback (most recent call last)",
      "\u001b[1;32m<ipython-input-48-6451aca05640>\u001b[0m in \u001b[0;36m<module>\u001b[1;34m\u001b[0m\n\u001b[1;32m----> 1\u001b[1;33m \u001b[1;32mfor\u001b[0m \u001b[0my\u001b[0m \u001b[1;32min\u001b[0m \u001b[0my\u001b[0m\u001b[1;33m:\u001b[0m \u001b[0mprint\u001b[0m\u001b[1;33m(\u001b[0m\u001b[0mi\u001b[0m\u001b[1;33m)\u001b[0m\u001b[1;33m\u001b[0m\u001b[1;33m\u001b[0m\u001b[0m\n\u001b[0m",
      "\u001b[1;31mTypeError\u001b[0m: 'int' object is not iterable"
     ]
    }
   ],
   "source": [
    "for y in y: print(i)"
   ]
  },
  {
   "cell_type": "code",
   "execution_count": 56,
   "metadata": {},
   "outputs": [],
   "source": [
    "tpl = ( 10, -20, 15.5, 'Sravan', \"Roger\")"
   ]
  },
  {
   "cell_type": "code",
   "execution_count": 57,
   "metadata": {},
   "outputs": [
    {
     "data": {
      "text/plain": [
       "tuple"
      ]
     },
     "execution_count": 57,
     "metadata": {},
     "output_type": "execute_result"
    }
   ],
   "source": [
    "type(tpl)"
   ]
  },
  {
   "cell_type": "code",
   "execution_count": 59,
   "metadata": {},
   "outputs": [
    {
     "ename": "SyntaxError",
     "evalue": "can't assign to function call (<ipython-input-59-96024a1d24a8>, line 1)",
     "output_type": "error",
     "traceback": [
      "\u001b[1;36m  File \u001b[1;32m\"<ipython-input-59-96024a1d24a8>\"\u001b[1;36m, line \u001b[1;32m1\u001b[0m\n\u001b[1;33m    Lst(0) = 100\u001b[0m\n\u001b[1;37m                ^\u001b[0m\n\u001b[1;31mSyntaxError\u001b[0m\u001b[1;31m:\u001b[0m can't assign to function call\n"
     ]
    }
   ],
   "source": [
    "Lst(0) = 100"
   ]
  },
  {
   "cell_type": "code",
   "execution_count": 61,
   "metadata": {},
   "outputs": [],
   "source": [
    "Lst[0] = 100"
   ]
  },
  {
   "cell_type": "code",
   "execution_count": 63,
   "metadata": {},
   "outputs": [
    {
     "name": "stdout",
     "output_type": "stream",
     "text": [
      "[100, -20, 15.5, 'Sravan', 'Roger']\n"
     ]
    }
   ],
   "source": [
    "print(Lst)"
   ]
  },
  {
   "cell_type": "code",
   "execution_count": 68,
   "metadata": {},
   "outputs": [
    {
     "data": {
      "text/plain": [
       "list"
      ]
     },
     "execution_count": 68,
     "metadata": {},
     "output_type": "execute_result"
    }
   ],
   "source": [
    "type(Lst * 2)"
   ]
  },
  {
   "cell_type": "code",
   "execution_count": 70,
   "metadata": {},
   "outputs": [],
   "source": [
    "Lst1 = ['Roger', 'Rafa', 'Novak', 'Nick']"
   ]
  },
  {
   "cell_type": "code",
   "execution_count": 72,
   "metadata": {},
   "outputs": [
    {
     "data": {
      "text/plain": [
       "['Roger', 'Rafa', 'Novak', 'Nick']"
      ]
     },
     "execution_count": 72,
     "metadata": {},
     "output_type": "execute_result"
    }
   ],
   "source": [
    "Lst1"
   ]
  },
  {
   "cell_type": "code",
   "execution_count": 74,
   "metadata": {},
   "outputs": [],
   "source": [
    "Lst2 = Lst + Lst1"
   ]
  },
  {
   "cell_type": "code",
   "execution_count": 76,
   "metadata": {},
   "outputs": [
    {
     "name": "stdout",
     "output_type": "stream",
     "text": [
      "[100, -20, 15.5, 'Sravan', 'Roger', 'Roger', 'Rafa', 'Novak', 'Nick']\n"
     ]
    }
   ],
   "source": [
    "print(Lst2)"
   ]
  },
  {
   "cell_type": "code",
   "execution_count": 78,
   "metadata": {},
   "outputs": [
    {
     "data": {
      "text/plain": [
       "True"
      ]
     },
     "execution_count": 78,
     "metadata": {},
     "output_type": "execute_result"
    }
   ],
   "source": [
    "'Roger' in Lst2"
   ]
  },
  {
   "cell_type": "code",
   "execution_count": 86,
   "metadata": {},
   "outputs": [],
   "source": [
    "s = { 10, 20, 20, 30, 50 , \"Roger\" }"
   ]
  },
  {
   "cell_type": "code",
   "execution_count": 87,
   "metadata": {},
   "outputs": [
    {
     "name": "stdout",
     "output_type": "stream",
     "text": [
      "{10, 'Roger', 50, 20, 30}\n"
     ]
    }
   ],
   "source": [
    "print(s)"
   ]
  },
  {
   "cell_type": "code",
   "execution_count": 88,
   "metadata": {},
   "outputs": [
    {
     "data": {
      "text/plain": [
       "set"
      ]
     },
     "execution_count": 88,
     "metadata": {},
     "output_type": "execute_result"
    }
   ],
   "source": [
    "type(s)"
   ]
  },
  {
   "cell_type": "code",
   "execution_count": 89,
   "metadata": {},
   "outputs": [],
   "source": [
    "s = set"
   ]
  },
  {
   "cell_type": "code",
   "execution_count": 91,
   "metadata": {},
   "outputs": [],
   "source": [
    "ch = set(\"Hello\") "
   ]
  },
  {
   "cell_type": "code",
   "execution_count": 93,
   "metadata": {},
   "outputs": [
    {
     "name": "stdout",
     "output_type": "stream",
     "text": [
      "{'o', 'l', 'e', 'H'}\n"
     ]
    }
   ],
   "source": [
    "print(ch)"
   ]
  },
  {
   "cell_type": "code",
   "execution_count": 95,
   "metadata": {},
   "outputs": [],
   "source": [
    "ch1 = (\"Hello\")\n"
   ]
  },
  {
   "cell_type": "code",
   "execution_count": 96,
   "metadata": {},
   "outputs": [
    {
     "name": "stdout",
     "output_type": "stream",
     "text": [
      "Hello\n"
     ]
    }
   ],
   "source": [
    "print(ch1)"
   ]
  },
  {
   "cell_type": "code",
   "execution_count": 98,
   "metadata": {},
   "outputs": [
    {
     "ename": "TypeError",
     "evalue": "'type' object is not subscriptable",
     "output_type": "error",
     "traceback": [
      "\u001b[1;31m---------------------------------------------------------------------------\u001b[0m",
      "\u001b[1;31mTypeError\u001b[0m                                 Traceback (most recent call last)",
      "\u001b[1;32m<ipython-input-98-5605e14cbe49>\u001b[0m in \u001b[0;36m<module>\u001b[1;34m\u001b[0m\n\u001b[1;32m----> 1\u001b[1;33m \u001b[0mprint\u001b[0m\u001b[1;33m(\u001b[0m\u001b[0ms\u001b[0m\u001b[1;33m[\u001b[0m\u001b[1;36m0\u001b[0m\u001b[1;33m]\u001b[0m\u001b[1;33m)\u001b[0m\u001b[1;33m\u001b[0m\u001b[1;33m\u001b[0m\u001b[0m\n\u001b[0m",
      "\u001b[1;31mTypeError\u001b[0m: 'type' object is not subscriptable"
     ]
    }
   ],
   "source": [
    "print(s[0])"
   ]
  },
  {
   "cell_type": "code",
   "execution_count": 119,
   "metadata": {},
   "outputs": [],
   "source": [
    "ch.update((50,60))"
   ]
  },
  {
   "cell_type": "code",
   "execution_count": 120,
   "metadata": {},
   "outputs": [
    {
     "name": "stdout",
     "output_type": "stream",
     "text": [
      "{'o', 'H', 'e', 50, 'l', 60}\n"
     ]
    }
   ],
   "source": [
    "print(ch)"
   ]
  },
  {
   "cell_type": "code",
   "execution_count": 121,
   "metadata": {},
   "outputs": [
    {
     "data": {
      "text/plain": [
       "set"
      ]
     },
     "execution_count": 121,
     "metadata": {},
     "output_type": "execute_result"
    }
   ],
   "source": [
    "type(ch)"
   ]
  },
  {
   "cell_type": "code",
   "execution_count": 113,
   "metadata": {},
   "outputs": [],
   "source": [
    "ch.remove(50)"
   ]
  },
  {
   "cell_type": "code",
   "execution_count": 122,
   "metadata": {},
   "outputs": [
    {
     "name": "stdout",
     "output_type": "stream",
     "text": [
      "{'o', 'H', 'e', 50, 'l', 60}\n"
     ]
    }
   ],
   "source": [
    "print(ch)"
   ]
  },
  {
   "cell_type": "code",
   "execution_count": 128,
   "metadata": {},
   "outputs": [],
   "source": [
    "ch1 = { 10,20,30,50,40}"
   ]
  },
  {
   "cell_type": "code",
   "execution_count": 129,
   "metadata": {},
   "outputs": [
    {
     "name": "stdout",
     "output_type": "stream",
     "text": [
      "{40, 10, 50, 20, 30}\n"
     ]
    }
   ],
   "source": [
    "print(ch1)"
   ]
  },
  {
   "cell_type": "code",
   "execution_count": 131,
   "metadata": {},
   "outputs": [
    {
     "ename": "SyntaxError",
     "evalue": "invalid syntax (<ipython-input-131-402d9ed88cd9>, line 1)",
     "output_type": "error",
     "traceback": [
      "\u001b[1;36m  File \u001b[1;32m\"<ipython-input-131-402d9ed88cd9>\"\u001b[1;36m, line \u001b[1;32m1\u001b[0m\n\u001b[1;33m    ch. (ch1)\u001b[0m\n\u001b[1;37m        ^\u001b[0m\n\u001b[1;31mSyntaxError\u001b[0m\u001b[1;31m:\u001b[0m invalid syntax\n"
     ]
    }
   ],
   "source": [
    "ch. (ch1)"
   ]
  },
  {
   "cell_type": "code",
   "execution_count": 136,
   "metadata": {},
   "outputs": [
    {
     "data": {
      "text/plain": [
       "{60, 'H', 'e', 'l', 'o'}"
      ]
     },
     "execution_count": 136,
     "metadata": {},
     "output_type": "execute_result"
    }
   ],
   "source": [
    "ch. difference(ch1)"
   ]
  },
  {
   "cell_type": "code",
   "execution_count": 138,
   "metadata": {},
   "outputs": [],
   "source": [
    "d = {14 : 'Sravan' , 15 : 'Srihari', 21 : 'Vidyasagar'}"
   ]
  },
  {
   "cell_type": "code",
   "execution_count": 140,
   "metadata": {},
   "outputs": [
    {
     "data": {
      "text/plain": [
       "dict"
      ]
     },
     "execution_count": 140,
     "metadata": {},
     "output_type": "execute_result"
    }
   ],
   "source": [
    "type(d)"
   ]
  }
 ],
 "metadata": {
  "kernelspec": {
   "display_name": "Python 3",
   "language": "python",
   "name": "python3"
  },
  "language_info": {
   "codemirror_mode": {
    "name": "ipython",
    "version": 3
   },
   "file_extension": ".py",
   "mimetype": "text/x-python",
   "name": "python",
   "nbconvert_exporter": "python",
   "pygments_lexer": "ipython3",
   "version": "3.7.3"
  }
 },
 "nbformat": 4,
 "nbformat_minor": 2
}
