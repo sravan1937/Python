{
 "cells": [
  {
   "cell_type": "markdown",
   "metadata": {},
   "source": [
    "# Assignment :# Task 1 "
   ]
  },
  {
   "cell_type": "markdown",
   "metadata": {},
   "source": [
    "Question 1 \n",
    "\n",
    "Install Jupyter notebook and run the first program and share the screenshot of the output."
   ]
  },
  {
   "cell_type": "code",
   "execution_count": 1,
   "metadata": {},
   "outputs": [
    {
     "name": "stdout",
     "output_type": "stream",
     "text": [
      "Coding in Python\n"
     ]
    }
   ],
   "source": [
    "#First program in Python to display a string variable\n",
    "a = \"Coding in Python\"\n",
    "print(a) "
   ]
  },
  {
   "cell_type": "markdown",
   "metadata": {},
   "source": [
    "Question 2 \n",
    "\n",
    "Write a program which will find all such numbers which are divisible by 7 but are not a multiple\n",
    "of 5, between 2000 and 3200 (both included). The numbers obtained should be printed in a\n",
    "comma-separated sequence on a single line"
   ]
  },
  {
   "cell_type": "code",
   "execution_count": 10,
   "metadata": {},
   "outputs": [
    {
     "name": "stdout",
     "output_type": "stream",
     "text": [
      "All the numbers divisible by 7 but not a mutilple of 5 :\n",
      " [2002, 2009, 2016, 2023, 2037, 2044, 2051, 2058, 2072, 2079, 2086, 2093, 2107, 2114, 2121, 2128, 2142, 2149, 2156, 2163, 2177, 2184, 2191, 2198, 2212, 2219, 2226, 2233, 2247, 2254, 2261, 2268, 2282, 2289, 2296, 2303, 2317, 2324, 2331, 2338, 2352, 2359, 2366, 2373, 2387, 2394, 2401, 2408, 2422, 2429, 2436, 2443, 2457, 2464, 2471, 2478, 2492, 2499, 2506, 2513, 2527, 2534, 2541, 2548, 2562, 2569, 2576, 2583, 2597, 2604, 2611, 2618, 2632, 2639, 2646, 2653, 2667, 2674, 2681, 2688, 2702, 2709, 2716, 2723, 2737, 2744, 2751, 2758, 2772, 2779, 2786, 2793, 2807, 2814, 2821, 2828, 2842, 2849, 2856, 2863, 2877, 2884, 2891, 2898, 2912, 2919, 2926, 2933, 2947, 2954, 2961, 2968, 2982, 2989, 2996, 3003, 3017, 3024, 3031, 3038, 3052, 3059, 3066, 3073, 3087, 3094, 3101, 3108, 3122, 3129, 3136, 3143, 3157, 3164, 3171, 3178, 3192, 3199],"
     ]
    }
   ],
   "source": [
    "#range() function to be used to generate sequence of numbers from 2000 to 3200\n",
    "ran = range(2000,3201)\n",
    "#creating an empty list\n",
    "lst = []\n",
    "#for loop to look for all the numbers divisible by 7 but not a mutilple of 5\n",
    "for i in ran:\n",
    "    if (i % 7 == 0 and i % 5 != 0 ):\n",
    "        lst.append(i)\n",
    "\n",
    "print(\"All the numbers divisible by 7 but not a mutilple of 5 :\\n\",lst,end=',')\n",
    "#print(lst,end='')\n",
    "        "
   ]
  },
  {
   "cell_type": "markdown",
   "metadata": {},
   "source": [
    "Question 3:\n",
    "\n",
    "Write a Python program to accept the user's first and last name and then getting them printed in\n",
    "the the reverse order with a space between first name and last name."
   ]
  },
  {
   "cell_type": "code",
   "execution_count": 3,
   "metadata": {},
   "outputs": [
    {
     "name": "stdout",
     "output_type": "stream",
     "text": [
      "Enter your First-Name : Sravan\n",
      "Enter your Last-Name : Y\n",
      "Reverse order of the name is Y Sravan\n"
     ]
    }
   ],
   "source": [
    "#Defining a variable to accept first name & last name\n",
    "First_Name = input(\"Enter your First-Name : \")\n",
    "Last_Name  = input(\"Enter your Last-Name : \")\n",
    "\n",
    "#Defining a variable to create reverse order i.e., first name follwed by last name\n",
    "Rev_Name = Last_Name + ' ' + First_Name \n",
    "\n",
    "#Print the variable to display reverse order of accepted input\n",
    "print(\"Reverse order of the name is\", Rev_Name)"
   ]
  },
  {
   "cell_type": "markdown",
   "metadata": {},
   "source": [
    "Question 4 :\n",
    "\n",
    "Write a Python program to find the volume of a sphere with diameter 12 cm.\n",
    "Formula: V=4/3 * π * r 3"
   ]
  },
  {
   "cell_type": "code",
   "execution_count": 4,
   "metadata": {},
   "outputs": [
    {
     "name": "stdout",
     "output_type": "stream",
     "text": [
      "3.141592653589793\n",
      "Vol. of. Sphere with radius as  6.0 cm is 904.78 cubic. cm\n"
     ]
    }
   ],
   "source": [
    "from math import pi\n",
    "\n",
    "d = 12;\n",
    "r = d/2;\n",
    "\n",
    "Vol_sphere = round(((4/3) * pi * (pow(r,3))),2)\n",
    "print(pi)\n",
    "print(\"Vol. of. Sphere with radius as \", r,\"cm is\", Vol_sphere, \"cubic. cm\")"
   ]
  },
  {
   "cell_type": "markdown",
   "metadata": {},
   "source": [
    "# Task 2"
   ]
  },
  {
   "cell_type": "markdown",
   "metadata": {},
   "source": [
    "Question 1  \n",
    "\n",
    "Write a program which accepts a sequence of comma-separated numbers from console and\n",
    "generate a list."
   ]
  },
  {
   "cell_type": "code",
   "execution_count": 5,
   "metadata": {},
   "outputs": [
    {
     "name": "stdout",
     "output_type": "stream",
     "text": [
      "Enter comma-separated numbers from console : 10,20,30,40,50\n",
      "['10', '20', '30', '40', '50']\n",
      "[10, 20, 30, 40, 50]\n"
     ]
    }
   ],
   "source": [
    "#input comma separated values into variable pgm and then generate a list of strings \n",
    "pgm = input(\"Enter comma-separated numbers from console : \")\n",
    "\n",
    "#Split the string of variable - pgm delimited by comma\n",
    "Lst = pgm.split(sep=\",\")\n",
    "\n",
    "#Printing list - Lst of strings\n",
    "print(Lst)\n",
    "\n",
    "# Similarly generate a list of integers from the list of already generated strings \n",
    "# Create an empty list \n",
    "Lst1 = []\n",
    "#Loop through the list - Lst and append string converted integers to Lst1\n",
    "for x in Lst:\n",
    "    Lst1.append(int(x))\n",
    "\n",
    "#Printing list - Lst of integers\n",
    "print(Lst1)\n",
    "\n"
   ]
  },
  {
   "cell_type": "markdown",
   "metadata": {},
   "source": [
    "Question 2 \n",
    "\n",
    "Create the below pattern using nested for loop in Python"
   ]
  },
  {
   "cell_type": "code",
   "execution_count": 6,
   "metadata": {},
   "outputs": [
    {
     "name": "stdout",
     "output_type": "stream",
     "text": [
      "Enter the input to be displayed : *****\n",
      "Enter max. input on a row : 5\n",
      "*\n",
      "**\n",
      "***\n",
      "****\n",
      "*****\n",
      "****\n",
      "***\n",
      "**\n",
      "*\n"
     ]
    }
   ],
   "source": [
    "#From the pattern to be printed input the max.char/values \n",
    "My_string = input(\"Enter the input to be displayed : \")\n",
    "\n",
    "#Enter the max value\n",
    "n = input(\"Enter max. input on a row : \")\n",
    "\n",
    "#Convert a string into interger\n",
    "n=int(n) \n",
    "\n",
    "x=0\n",
    "\n",
    "for i in range(0,(2 * (n) -1)):\n",
    "    if(i < n):\n",
    "        for j in range(0,1): \n",
    "            x = x+1 \n",
    "            print(My_string[0:x])\n",
    "    else:\n",
    "        for j in range (0,1):\n",
    "            x = x-1\n",
    "            print(My_string[0:x])\n",
    "\n"
   ]
  },
  {
   "cell_type": "markdown",
   "metadata": {},
   "source": [
    "Question 3\n",
    "\n",
    "Write a Python program to reverse a word after accepting the input from the user.\n",
    "\n",
    "Input word: AcadGild\n",
    "Output: dilGdacA\n",
    "\n",
    "Two methods to do this bit\n",
    "1.Using Slicing\n",
    "2.Using functions from re-usability perspective"
   ]
  },
  {
   "cell_type": "code",
   "execution_count": 7,
   "metadata": {},
   "outputs": [
    {
     "name": "stdout",
     "output_type": "stream",
     "text": [
      "Enter the word for reverse : AcadGild\n",
      "dliGdacA\n"
     ]
    }
   ],
   "source": [
    "rev_word = input(\"Enter the word for reverse : \")\n",
    "rev_word=rev_word[::-1]\n",
    "print(rev_word)"
   ]
  },
  {
   "cell_type": "code",
   "execution_count": 8,
   "metadata": {},
   "outputs": [
    {
     "name": "stdout",
     "output_type": "stream",
     "text": [
      "Enter the word for reverse : AcadGild\n",
      "dliGdacA\n"
     ]
    }
   ],
   "source": [
    "rev_word1 = input(\"Enter the word for reverse : \")\n",
    "def reverse(test):\n",
    "    n = len(test)\n",
    "    x=\"\"\n",
    "    for i in range(n-1,-1,-1):\n",
    "        x += test[i]\n",
    "    return x\n",
    "rev_word1=reverse(rev_word1)\n",
    "print(rev_word1)"
   ]
  },
  {
   "cell_type": "markdown",
   "metadata": {},
   "source": [
    "Question 4.\n",
    "\n",
    "Write a Python Program to print the given string in the format specified in the sample output.\n",
    "\n",
    "WE, THE PEOPLE OF INDIA, having solemnly resolved to constitute India into a\n",
    "SOVEREIGN, SOCIALIST, SECULAR, DEMOCRATIC REPUBLIC and to secure to all\n",
    "its citizens\n",
    "\n",
    "Sample Output:\n",
    "WE, THE PEOPLE OF INDIA,\n",
    "having solemnly resolved to constitute India into a SOVEREIGN, !\n",
    "SOCIALIST, SECULAR, DEMOCRATIC REPUBLIC\n",
    "and to secure to all its citizens"
   ]
  },
  {
   "cell_type": "code",
   "execution_count": 9,
   "metadata": {},
   "outputs": [
    {
     "name": "stdout",
     "output_type": "stream",
     "text": [
      "WE, THE PEOPLE OF INDIA,\n",
      "\thaving solemnly resolved to constitute India into a SOVEREIGN,! \n",
      "\t\tSOCIALIST,SECULAR,DEMOCRATIC REPUBLIC \n",
      "\t\t and to secure to all its citizens\n"
     ]
    }
   ],
   "source": [
    "print(\"WE, THE PEOPLE OF INDIA,\\n\\thaving solemnly resolved to constitute India into a SOVEREIGN,! \\n\\t\\tSOCIALIST,SECULAR,DEMOCRATIC REPUBLIC \\n\\t\\t and to secure to all its citizens\")"
   ]
  }
 ],
 "metadata": {
  "kernelspec": {
   "display_name": "Python 3",
   "language": "python",
   "name": "python3"
  },
  "language_info": {
   "codemirror_mode": {
    "name": "ipython",
    "version": 3
   },
   "file_extension": ".py",
   "mimetype": "text/x-python",
   "name": "python",
   "nbconvert_exporter": "python",
   "pygments_lexer": "ipython3",
   "version": "3.7.3"
  }
 },
 "nbformat": 4,
 "nbformat_minor": 2
}
